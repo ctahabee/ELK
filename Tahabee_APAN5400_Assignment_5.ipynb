{
 "cells": [
  {
   "cell_type": "markdown",
   "id": "prime-wisconsin",
   "metadata": {},
   "source": [
    "# APAN5400: Managing Data \n",
    "### Assignment 5 - NoSQL Search Engine: Elasticsearch"
   ]
  },
  {
   "cell_type": "markdown",
   "id": "limited-batch",
   "metadata": {},
   "source": [
    "### Chowdhury Walid Tahabee\n",
    "#### 02/23/2021"
   ]
  },
  {
   "cell_type": "markdown",
   "id": "hundred-offer",
   "metadata": {},
   "source": [
    "#### Installing Elasticsearch loader to import CSV and JSON files"
   ]
  },
  {
   "cell_type": "code",
   "execution_count": 1,
   "id": "chubby-columbia",
   "metadata": {},
   "outputs": [
    {
     "name": "stdout",
     "output_type": "stream",
     "text": [
      "Requirement already satisfied: elasticsearch-loader in /Library/Frameworks/Python.framework/Versions/3.9/lib/python3.9/site-packages (0.6.0)\n",
      "Requirement already satisfied: elasticsearch>=6 in /Library/Frameworks/Python.framework/Versions/3.9/lib/python3.9/site-packages (from elasticsearch-loader) (7.11.0)\n",
      "Requirement already satisfied: click==7.0 in /Library/Frameworks/Python.framework/Versions/3.9/lib/python3.9/site-packages (from elasticsearch-loader) (7.0)\n",
      "Requirement already satisfied: click-stream==0.0.10 in /Library/Frameworks/Python.framework/Versions/3.9/lib/python3.9/site-packages (from elasticsearch-loader) (0.0.10)\n",
      "Requirement already satisfied: click-conf in /Library/Frameworks/Python.framework/Versions/3.9/lib/python3.9/site-packages (from elasticsearch-loader) (0.0.1)\n",
      "Requirement already satisfied: urllib3<2,>=1.21.1 in /Library/Frameworks/Python.framework/Versions/3.9/lib/python3.9/site-packages (from elasticsearch>=6->elasticsearch-loader) (1.26.3)\n",
      "Requirement already satisfied: certifi in /Library/Frameworks/Python.framework/Versions/3.9/lib/python3.9/site-packages (from elasticsearch>=6->elasticsearch-loader) (2020.12.5)\n",
      "Requirement already satisfied: pyaml in /Library/Frameworks/Python.framework/Versions/3.9/lib/python3.9/site-packages (from click-conf->elasticsearch-loader) (20.4.0)\n",
      "Requirement already satisfied: PyYAML in /Library/Frameworks/Python.framework/Versions/3.9/lib/python3.9/site-packages (from pyaml->click-conf->elasticsearch-loader) (5.4.1)\n"
     ]
    }
   ],
   "source": [
    "!pip3 install elasticsearch-loader"
   ]
  },
  {
   "cell_type": "markdown",
   "id": "sophisticated-draft",
   "metadata": {},
   "source": [
    "##### Importing JSON object file to Elasticsearch index"
   ]
  },
  {
   "cell_type": "code",
   "execution_count": 2,
   "id": "hindu-favorite",
   "metadata": {},
   "outputs": [
    {
     "name": "stdout",
     "output_type": "stream",
     "text": [
      "{'index': 'companies', 'bulk_size': 500, 'es_host': ('http://localhost:9200',), 'verify_certs': False, 'use_ssl': False, 'ca_certs': None, 'http_auth': None, 'delete': False, 'update': False, 'progress': False, 'type': '_doc', 'id_field': None, 'as_child': False, 'with_retry': False, 'index_settings_file': None, 'timeout': 10.0, 'encoding': 'utf-8', 'keys': [], 'es_conn': <Elasticsearch([{'host': 'localhost', 'port': 9200}])>}\n",
      "/Library/Frameworks/Python.framework/Versions/3.9/lib/python3.9/site-packages/elasticsearch/connection/base.py:200: ElasticsearchWarning: [types removal] Specifying types in bulk requests is deprecated.\n",
      "  warnings.warn(message, category=ElasticsearchWarning)\n"
     ]
    }
   ],
   "source": [
    "!elasticsearch_loader --index companies json companies.json"
   ]
  },
  {
   "cell_type": "markdown",
   "id": "referenced-picture",
   "metadata": {},
   "source": [
    "#### Installing elasticsearch Python packages"
   ]
  },
  {
   "cell_type": "code",
   "execution_count": 3,
   "id": "native-street",
   "metadata": {},
   "outputs": [
    {
     "name": "stdout",
     "output_type": "stream",
     "text": [
      "Requirement already satisfied: elasticsearch in /Library/Frameworks/Python.framework/Versions/3.9/lib/python3.9/site-packages (7.11.0)\n",
      "Requirement already satisfied: certifi in /Library/Frameworks/Python.framework/Versions/3.9/lib/python3.9/site-packages (from elasticsearch) (2020.12.5)\n",
      "Requirement already satisfied: urllib3<2,>=1.21.1 in /Library/Frameworks/Python.framework/Versions/3.9/lib/python3.9/site-packages (from elasticsearch) (1.26.3)\n",
      "Requirement already satisfied: elasticsearch-dsl in /Library/Frameworks/Python.framework/Versions/3.9/lib/python3.9/site-packages (7.3.0)\n",
      "Requirement already satisfied: six in /Library/Frameworks/Python.framework/Versions/3.9/lib/python3.9/site-packages (from elasticsearch-dsl) (1.15.0)\n",
      "Requirement already satisfied: python-dateutil in /Library/Frameworks/Python.framework/Versions/3.9/lib/python3.9/site-packages (from elasticsearch-dsl) (2.8.1)\n",
      "Requirement already satisfied: elasticsearch<8.0.0,>=7.0.0 in /Library/Frameworks/Python.framework/Versions/3.9/lib/python3.9/site-packages (from elasticsearch-dsl) (7.11.0)\n",
      "Requirement already satisfied: urllib3<2,>=1.21.1 in /Library/Frameworks/Python.framework/Versions/3.9/lib/python3.9/site-packages (from elasticsearch<8.0.0,>=7.0.0->elasticsearch-dsl) (1.26.3)\n",
      "Requirement already satisfied: certifi in /Library/Frameworks/Python.framework/Versions/3.9/lib/python3.9/site-packages (from elasticsearch<8.0.0,>=7.0.0->elasticsearch-dsl) (2020.12.5)\n"
     ]
    }
   ],
   "source": [
    "!pip3 install elasticsearch\n",
    "!pip3 install elasticsearch-dsl"
   ]
  },
  {
   "cell_type": "markdown",
   "id": "piano-cheese",
   "metadata": {},
   "source": [
    "#### Connecting to Elasticsearch on my machine"
   ]
  },
  {
   "cell_type": "markdown",
   "id": "artificial-marijuana",
   "metadata": {},
   "source": [
    "##### 1: Using elasticsearch package"
   ]
  },
  {
   "cell_type": "code",
   "execution_count": 4,
   "id": "bottom-syndrome",
   "metadata": {},
   "outputs": [],
   "source": [
    "from elasticsearch import Elasticsearch\n",
    "client = Elasticsearch()"
   ]
  },
  {
   "cell_type": "markdown",
   "id": "enormous-anniversary",
   "metadata": {},
   "source": [
    "##### 2. Using elasticsearch-dsl package"
   ]
  },
  {
   "cell_type": "code",
   "execution_count": 5,
   "id": "popular-stone",
   "metadata": {},
   "outputs": [],
   "source": [
    "from elasticsearch_dsl import connections\n",
    "client = connections.create_connection()"
   ]
  },
  {
   "cell_type": "markdown",
   "id": "presidential-purple",
   "metadata": {},
   "source": [
    "# 1. Which company is the oldest?"
   ]
  },
  {
   "cell_type": "code",
   "execution_count": 178,
   "id": "discrete-truck",
   "metadata": {},
   "outputs": [
    {
     "name": "stdout",
     "output_type": "stream",
     "text": [
      "The oldest company is Daimler AG. The company was founded in 1926\n"
     ]
    }
   ],
   "source": [
    "#Search the companies index, find where description field contains the word \"American\" \n",
    "# and sort by number of employees in descending order.\n",
    "# and Return all records.\n",
    "# print only only the company names and number of employees meeting this criteria\n",
    "s = Search(using=client, index=\"companies\") \\\n",
    "         .sort({'founded': {'order': 'asc'}})\n",
    "\n",
    "response = s[:1].execute() # by default you get 10 hits\n",
    "\n",
    "for hit in response:\n",
    "    print(\"The oldest company is \"+str(hit.company)+\". The company was founded in \"+str(hit.founded))"
   ]
  },
  {
   "cell_type": "markdown",
   "id": "cubic-earthquake",
   "metadata": {},
   "source": [
    "In this query, I sorted the 'founded' key in ascending order and set the scroll size to 1 to only print the oldest company."
   ]
  },
  {
   "cell_type": "markdown",
   "id": "following-artist",
   "metadata": {},
   "source": [
    "# 2. Which company's product is a search engine?"
   ]
  },
  {
   "cell_type": "code",
   "execution_count": 176,
   "id": "defensive-teddy",
   "metadata": {},
   "outputs": [
    {
     "name": "stdout",
     "output_type": "stream",
     "text": [
      "The company that produces search engines is Google\n"
     ]
    }
   ],
   "source": [
    "s = Search(using=client, index=\"companies\") \\\n",
    "         .query(\"match\", description=\"search engine\") \\\n",
    "\n",
    "response = s[:1].execute()\n",
    "\n",
    "for hit in response: \n",
    "    print(\"The company that produces search engines is \"+str(hit.company))"
   ]
  },
  {
   "cell_type": "markdown",
   "id": "outstanding-nitrogen",
   "metadata": {},
   "source": [
    "In this query, I specified the string type key 'description' to be string matched with 'search engine' to print the company that produces search engines. Similarly to question 1, I set the scroll length to 1 to avoid repetition in the printed statement."
   ]
  },
  {
   "cell_type": "markdown",
   "id": "collect-being",
   "metadata": {},
   "source": [
    "# 3. Which companies are headquartered in the USA?"
   ]
  },
  {
   "cell_type": "code",
   "execution_count": 162,
   "id": "greenhouse-province",
   "metadata": {},
   "outputs": [
    {
     "name": "stdout",
     "output_type": "stream",
     "text": [
      "The Company Name is Apple. The company is headquartered in Cupertino, California, USA\n",
      "The Company Name is Microsoft. The company is headquartered in Redmond, Washington, USA\n",
      "The Company Name is Amazon. The company is headquartered in Seattle, Washington, USA\n",
      "The Company Name is Google. The company is headquartered in Mountain View, California, USA\n"
     ]
    }
   ],
   "source": [
    "s = Search(using=client, index=\"companies\") \\\n",
    "         .query(\"match\", country=\"USA\") \\\n",
    "\n",
    "response = s[:4].execute()\n",
    "\n",
    "for hit in response:\n",
    "    print(\"The Company Name is \"+str(hit.company)+\". The company is headquartered in \"+str(hit.city)+\", \"+str(hit.state)+\", \" +str(hit.country))"
   ]
  },
  {
   "cell_type": "markdown",
   "id": "framed-flood",
   "metadata": {},
   "source": [
    "In this query, I have specified the string type country key to match with the string 'USA' to capture all companies that are headquartered in the U.S. Similarly to questions 1 and 2 - after running the query initially, I noticed that there are only 4 unique hits, so I subsequently set the scroll size to 4 to only print the unique hits."
   ]
  },
  {
   "cell_type": "markdown",
   "id": "professional-plane",
   "metadata": {},
   "source": [
    "# 4. Which companies have been founded in 1990s?"
   ]
  },
  {
   "cell_type": "code",
   "execution_count": 174,
   "id": "personalized-stereo",
   "metadata": {},
   "outputs": [
    {
     "name": "stdout",
     "output_type": "stream",
     "text": [
      "The Company Name is Amazon. The company was founded in 1994\n",
      "The Company Name is Google. The company was founded in 1998\n",
      "The Company Name is Alibaba. The company was founded in 1999\n"
     ]
    }
   ],
   "source": [
    "s = Search(using=client, index=\"companies\") \\\n",
    "         .filter('range', founded = {'gte': 1990, 'lte': 1999}) \\\n",
    "\n",
    "response = s[:3].execute()\n",
    "\n",
    "for hit in response:\n",
    "    print(\"The Company Name is \"+str(hit.company)+\". The company was founded in \"+str(hit.founded))"
   ]
  },
  {
   "cell_type": "markdown",
   "id": "annual-airport",
   "metadata": {},
   "source": [
    "In this query, I have specified the range of the 'founded' key to be greater than equal to 1990 and less than equal to 1999 to capture all the companies that were founded in the 90s. Similarly to previous questions - after initially running the query I realized there are only 3 unique hits, so I set the scroll size to 3.  "
   ]
  },
  {
   "cell_type": "markdown",
   "id": "indonesian-residence",
   "metadata": {},
   "source": [
    "# 5. What is the total annual revenue of the three companies in Asia?"
   ]
  },
  {
   "cell_type": "code",
   "execution_count": 205,
   "id": "popular-possession",
   "metadata": {},
   "outputs": [
    {
     "name": "stdout",
     "output_type": "stream",
     "text": [
      "Total revenue for asian companies is $358 Million\n"
     ]
    }
   ],
   "source": [
    "from elasticsearch_dsl import Q\n",
    "s = Search(using=client, index=\"companies\")\n",
    "s.query = Q('bool', must_not=[Q('match', country='USA'), Q('match', country='Germany')])\n",
    "response = s[:3].execute()\n",
    "\n",
    "total_revenue = 0\n",
    "for hit in response:\n",
    "    total_revenue+=hit.annual_revenue\n",
    "    \n",
    "print('Total revenue for asian companies is $' + str(total_revenue) + ' Million')"
   ]
  },
  {
   "cell_type": "markdown",
   "id": "framed-brother",
   "metadata": {},
   "source": [
    "In this query, I searched the company index to find all records that excludes 'USA' and 'Germany' for the 'country' key. After initially running the query in the for loop, I noticed that it only resulted in 3 unique hits, so I adjusted the scroll size accordingly. Subsequently, I created a total_revenue variable and set it to zero before adding all the hits to it using the for loop. "
   ]
  }
 ],
 "metadata": {
  "kernelspec": {
   "display_name": "Python 3",
   "language": "python",
   "name": "python3"
  },
  "language_info": {
   "codemirror_mode": {
    "name": "ipython",
    "version": 3
   },
   "file_extension": ".py",
   "mimetype": "text/x-python",
   "name": "python",
   "nbconvert_exporter": "python",
   "pygments_lexer": "ipython3",
   "version": "3.9.1"
  }
 },
 "nbformat": 4,
 "nbformat_minor": 5
}
